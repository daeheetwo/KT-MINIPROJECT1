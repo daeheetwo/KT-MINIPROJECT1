{
 "cells": [
  {
   "cell_type": "markdown",
   "id": "4a810497-272c-4311-80b8-70722a19893e",
   "metadata": {},
   "source": [
    "# AIVLE스쿨 1차 미니프로젝트: 서울시 생활정보 기반 대중교통 수요 분석"
   ]
  },
  {
   "cell_type": "markdown",
   "id": "8b5639fa-945d-47aa-b1d0-ddd1971a9c9b",
   "metadata": {},
   "source": [
    "<img src = \"https://github.com/Jangrae/img/blob/master/park.png?raw=true\" width=800, align=\"left\"/>"
   ]
  },
  {
   "cell_type": "markdown",
   "id": "b06fdabb-04ac-44a0-9cf6-3d070a3efd77",
   "metadata": {},
   "source": [
    "- 본 과정에서는 실제 사례와 데이터를 기반으로 문제를 해결하는 전체 과정을 자기 주도형 실습으로 진행해볼 예정입니다.\n",
    "- 앞선 교육과정을 정리하는 마음과 지금까지 배운 내용을 바탕으로 문제 해결을 해볼게요!\n",
    "- 미니 프로젝트를 통한 문제 해결 과정 'A에서 Z까지', 지금부터 시작합니다!"
   ]
  },
  {
   "cell_type": "markdown",
   "id": "f1585f32-58d9-472d-bdaa-80995f8b6e5d",
   "metadata": {},
   "source": [
    "# [미션 3] 구별 주민등록인구 데이터 분석"
   ]
  },
  {
   "cell_type": "markdown",
   "id": "b46be86d-349e-4323-888b-0ffe1769b2c9",
   "metadata": {
    "id": "gklxNfgNpkls"
   },
   "source": [
    "### 로컬 수행(Anaconda)\n",
    "- project 폴더에 필요한 파일들을 넣고, 본 파일을 열었다면, 별도 경로 지정이 필요하지 않습니다."
   ]
  },
  {
   "cell_type": "code",
   "execution_count": null,
   "id": "c5a0c109-2cb1-4ac4-b859-6a700be1a556",
   "metadata": {
    "id": "PNI6X2yxpkls",
    "tags": []
   },
   "outputs": [],
   "source": [
    "# 기본 경로\n",
    "path = ''"
   ]
  },
  {
   "cell_type": "markdown",
   "id": "dc2e297b-aa56-4d61-908b-3766e3ca070d",
   "metadata": {
    "id": "7rWT4biQpkls"
   },
   "source": [
    "### 구글 콜랩 수행\n",
    "\n",
    "- 구글 콜랩을 사용중이면 구글 드라이브를 연결합니다."
   ]
  },
  {
   "cell_type": "code",
   "execution_count": null,
   "id": "1b5b180e-c4e3-490a-89f5-1b44aaaff132",
   "metadata": {
    "id": "CLasRk8Spklt",
    "tags": []
   },
   "outputs": [],
   "source": [
    "# 구글 드라이브 연결, 패스 지정\n",
    "import sys\n",
    "if 'google.colab' in sys.modules:\n",
    "    from google.colab import drive\n",
    "    drive.mount('/content/drive')\n",
    "    path = '/content/drive/MyDrive/project/'"
   ]
  },
  {
   "cell_type": "markdown",
   "id": "3775dd8d-eaba-4e1f-ad62-cf14240499a2",
   "metadata": {},
   "source": [
    "### 한글 폰트 표시를 위해 설치합니다."
   ]
  },
  {
   "cell_type": "code",
   "execution_count": null,
   "id": "63133cd6-56ec-4f6c-934a-8b52b974e0af",
   "metadata": {},
   "outputs": [],
   "source": [
    "# 한글 표시를 위한 라이브러리 설치\n",
    "!pip install koreanize_matplotlib -q"
   ]
  },
  {
   "cell_type": "markdown",
   "id": "62c7fbc0-c65b-46b1-bb14-fc6fe0545098",
   "metadata": {},
   "source": [
    "### 필요한 라이브러리를 불러옵니다."
   ]
  },
  {
   "cell_type": "code",
   "execution_count": null,
   "id": "0e47ca64-2be7-4743-940c-2faa5e939790",
   "metadata": {
    "tags": []
   },
   "outputs": [],
   "source": [
    "# 라이브러리 불러오기\n",
    "import numpy as np\n",
    "import pandas as pd\n",
    "import matplotlib.pyplot as plt\n",
    "import koreanize_matplotlib\n",
    "import warnings\n",
    "\n",
    "warnings.filterwarnings(action='ignore')\n",
    "%config InlineBackend.figure_format='retina'"
   ]
  },
  {
   "cell_type": "markdown",
   "id": "79188c18-2e8e-4f3f-a867-0bc18fda0ee4",
   "metadata": {},
   "source": [
    "### 기본 데이터: 1.3 seoul_people_202407.csv\n",
    "- 서울시 주민 등록 데이터\n",
    "- 세대수, 한국인, 외국인, 고령인구수 등에 대한 정보"
   ]
  },
  {
   "cell_type": "markdown",
   "id": "f8eba99a-ee2c-4f5d-ae4c-f8f54d284ab7",
   "metadata": {},
   "source": [
    "# 1. 데이터 불러오기\n",
    "\n",
    "- 분석 대상 데이터를 불러와 데이터프레임으로 선언합니다."
   ]
  },
  {
   "cell_type": "markdown",
   "id": "cecac9ef-189b-4798-a837-e8affb84381f",
   "metadata": {
    "jp-MarkdownHeadingCollapsed": true
   },
   "source": [
    "### [참고] 데이터 프레임을 불러오고 변수로 저장(CSV 기준으로 진행)\n",
    "\n",
    "- csv: pd.read_csv('파일이름.csv')\n",
    "- txt: pd.read_csv('파일이름.csv', sep='구분자')\n",
    "- xlsx: pd.read_excel('파일이름.xlsx')\n",
    "- pickle: pd.read_pickle('파일이름.pkl')"
   ]
  },
  {
   "cell_type": "markdown",
   "id": "4414c421-c217-4b2a-984e-df4fa7d2573a",
   "metadata": {},
   "source": [
    "## [실습1] 데이터 불러오기\n",
    "\n",
    "- 대상 파일: 1.3 seoul_people_202407.csv\n",
    "- 불러온 데이터는 seoul_people 데이터프레임으로 선언하세요.\n",
    "- 데이터 불러올 때 참고할 사항 \n",
    "    - 구분자(sep)는 '\\t' 입니다\n",
    "    - CP949 인코더를 사용해 주세요"
   ]
  },
  {
   "cell_type": "code",
   "execution_count": null,
   "id": "saving-slope",
   "metadata": {
    "tags": []
   },
   "outputs": [],
   "source": [
    "# 데이터 불러오기\n",
    "seoul_people = pd.read_csv(path + '1.3 seoul_people_202407.csv', sep='\\t', encoding='CP949')\n",
    "\n",
    "# 확인\n",
    "seoul_people.head()"
   ]
  },
  {
   "cell_type": "code",
   "execution_count": null,
   "id": "4abec24a-92f4-4c4e-919b-1af67590fda8",
   "metadata": {},
   "outputs": [],
   "source": [
    "# tail() 메서드로 하위 데이터 확인\n"
   ]
  },
  {
   "cell_type": "markdown",
   "id": "d09d26fd-e7a9-4523-a4f9-b92120bcc5ce",
   "metadata": {},
   "source": [
    "## [실습2] 제대로 불러오기\n",
    "\n",
    "- head(), tail() 메서드로 조회 결과를 볼 때, 세 번째 행부터 읽어와야 합니다.\n",
    "- header=2를 지정하여 다시 불러와 seoul_people 데이터프레임으로 선언하세요."
   ]
  },
  {
   "cell_type": "code",
   "execution_count": null,
   "id": "a804362b-e942-4875-9b15-ed140ab261cd",
   "metadata": {},
   "outputs": [],
   "source": [
    "# 데이터 불러오기(세 번째 행부터)\n",
    "\n",
    "\n",
    "# 확인\n"
   ]
  },
  {
   "cell_type": "markdown",
   "id": "90482d3a-cd54-401d-adde-7dc902d105aa",
   "metadata": {},
   "source": [
    "- seoul_people 데이터프레임이 '동별(2)', '남자', '여자', '소계.1' 열만 갖게 하세요."
   ]
  },
  {
   "cell_type": "code",
   "execution_count": null,
   "id": "4ffa2d9d-a342-4a98-98c5-4dc099ec6777",
   "metadata": {},
   "outputs": [],
   "source": [
    "# '동별(2)','남자','여자','소계.1' 행만 갖게\n",
    "# df = df[['열1', '열2', '열3']] 형태의 구문 사용\n",
    "\n",
    "\n",
    "# 확인\n"
   ]
  },
  {
   "cell_type": "markdown",
   "id": "d9ed0929-8f97-4cf2-8496-a85462ac80e6",
   "metadata": {},
   "source": [
    "- 소계인 첫 번째 행은 의미가 없으니 제거하고, 인덱스를 초기화하세요."
   ]
  },
  {
   "cell_type": "code",
   "execution_count": null,
   "id": "f31ca5e8-df57-4d61-aabc-e198c2d4d06f",
   "metadata": {},
   "outputs": [],
   "source": [
    "# 첫 번째 행 제거\n",
    "# 참고: df.drop(인덱스) 형태 구문 사용 \n",
    "\n",
    "\n",
    "# 확인\n"
   ]
  },
  {
   "cell_type": "code",
   "execution_count": null,
   "id": "db0f7f78-ba42-49d5-9064-6aa5d0d88b15",
   "metadata": {},
   "outputs": [],
   "source": [
    "# 인덱스 초기화\n",
    "# 참고: reset_index() 메서드 사용\n",
    "\n",
    "\n",
    "# 확인\n"
   ]
  },
  {
   "cell_type": "markdown",
   "id": "4dbaabb5-ebb6-4402-95e5-83ab916dbbd7",
   "metadata": {},
   "source": [
    "- 다음과 같이 seoul_people 데이터프레임의 열 이름을 변경하세요.\n",
    "    - '동별(2)' --> '자치구', '소계.1' --> '합계'"
   ]
  },
  {
   "cell_type": "code",
   "execution_count": null,
   "id": "565a03ca-c398-4987-b1dc-9e3594d4808b",
   "metadata": {},
   "outputs": [],
   "source": [
    "# 열 이름 변경: '동별(2)' --> '자치구', '소계.1' --> '합계'\n",
    "# 참고: rename() 메서드 사용\n",
    "\n",
    "\n",
    "# 확인\n"
   ]
  },
  {
   "cell_type": "markdown",
   "id": "annoying-trout",
   "metadata": {},
   "source": [
    "# 2. 기본 정보 확인 및 전처리\n",
    "\n",
    "- 분석 대상 테이터를 탐색하고 적절한 전처리를 수행합니다."
   ]
  },
  {
   "cell_type": "markdown",
   "id": "romantic-johnson",
   "metadata": {},
   "source": [
    "## [실습3] 기본 정보 확인\n",
    "\n",
    "- seoul_people 데이터프레임 정보를 확인하세요.\n",
    "- head(), tail(), info(), describe() 메서드 등을 활용해 보세요."
   ]
  },
  {
   "cell_type": "code",
   "execution_count": null,
   "id": "f4910dcf-c4a1-4192-b4d2-b73c6ada0f09",
   "metadata": {},
   "outputs": [],
   "source": [
    "# tail() 메서드로 하위 데이터 확인\n"
   ]
  },
  {
   "cell_type": "code",
   "execution_count": null,
   "id": "demographic-battery",
   "metadata": {},
   "outputs": [],
   "source": [
    "# info() 메서드로 열 이름, 데이터 개수, 데이터 형식 등 확인\n"
   ]
  },
  {
   "cell_type": "code",
   "execution_count": null,
   "id": "940a114a",
   "metadata": {},
   "outputs": [],
   "source": [
    "# describe() 메서드로 기술통계정보 확인\n"
   ]
  },
  {
   "cell_type": "markdown",
   "id": "d66fd038-c020-4bf1-ad07-1b7aae9d7468",
   "metadata": {},
   "source": [
    "- seoul_people 데이터프레임을 df_seoul_people.csv 파일로 저장하세요."
   ]
  },
  {
   "cell_type": "code",
   "execution_count": null,
   "id": "be9c1d4a",
   "metadata": {
    "tags": []
   },
   "outputs": [],
   "source": [
    "# csv 파일로 저장 (파일명: df_seoul_people.csv)\n",
    "# 참고: to_csv() 메서드를 사용, index=False 지정 \n",
    "seoul_people.to_csv(path + 'df_seoul_people.csv', index=False)"
   ]
  },
  {
   "cell_type": "markdown",
   "id": "southeast-integration",
   "metadata": {},
   "source": [
    "# 3. 데이터 분석\n",
    "\n",
    "- 다양한 분석 과정을 통해 인사이트를 도출하세요."
   ]
  },
  {
   "cell_type": "markdown",
   "id": "ea7b33f3-6ae9-4708-b7ae-eb875d5c6cfa",
   "metadata": {},
   "source": [
    "## [실습4] 시각화 분석\n",
    "\n",
    "- 다양한 열를 기준으로 그래프를 그려보고 인사이트를 도출해보세요."
   ]
  },
  {
   "cell_type": "code",
   "execution_count": null,
   "id": "acffc469",
   "metadata": {
    "tags": []
   },
   "outputs": [],
   "source": [
    "# 주석\n",
    "\n",
    "\n"
   ]
  },
  {
   "cell_type": "code",
   "execution_count": null,
   "id": "05a2ad5c-9ee7-463c-8f05-4df86437ce2c",
   "metadata": {
    "tags": []
   },
   "outputs": [],
   "source": [
    "# 주석\n",
    "\n",
    "\n"
   ]
  },
  {
   "cell_type": "code",
   "execution_count": null,
   "id": "b0f95b98-8d8e-455c-902a-e2f8f71d8ce5",
   "metadata": {
    "tags": []
   },
   "outputs": [],
   "source": [
    "# 주석\n",
    "\n",
    "\n"
   ]
  },
  {
   "cell_type": "code",
   "execution_count": null,
   "id": "86892a60",
   "metadata": {},
   "outputs": [],
   "source": [
    "# 위 차트를 통해 알게된 사실을 정리해 보세요.\n",
    "\n",
    "\n"
   ]
  }
 ],
 "metadata": {
  "kernelspec": {
   "display_name": "Python 3",
   "language": "python",
   "name": "python3"
  },
  "language_info": {
   "codemirror_mode": {
    "name": "ipython",
    "version": 3
   },
   "file_extension": ".py",
   "mimetype": "text/x-python",
   "name": "python",
   "nbconvert_exporter": "python",
   "pygments_lexer": "ipython3",
   "version": "3.12.4"
  },
  "vscode": {
   "interpreter": {
    "hash": "f08154012ddadd8e950e6e9e035c7a7b32c136e7647e9b7c77e02eb723a8bedb"
   }
  }
 },
 "nbformat": 4,
 "nbformat_minor": 5
}
